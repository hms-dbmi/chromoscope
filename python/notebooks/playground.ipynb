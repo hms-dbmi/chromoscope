{
 "cells": [
  {
   "cell_type": "code",
   "execution_count": 1,
   "id": "efd78655-78fa-46cc-856e-bef3163ceb46",
   "metadata": {
    "tags": []
   },
   "outputs": [],
   "source": [
    "%load_ext autoreload\n",
    "%autoreload 2"
   ]
  },
  {
   "cell_type": "code",
   "execution_count": 2,
   "id": "632a94aa-aecf-491a-9656-45d38d72ceff",
   "metadata": {
    "tags": []
   },
   "outputs": [
    {
     "name": "stdout",
     "output_type": "stream",
     "text": [
      "--2023-05-09 21:13:21--  https://somatic-browser-test.s3.amazonaws.com/SVTYPE_SV_test_tumor_normal_with_panel.bedpe\n",
      "Resolving somatic-browser-test.s3.amazonaws.com (somatic-browser-test.s3.amazonaws.com)... 54.231.166.169, 3.5.10.151, 52.217.126.57, ...\n",
      "Connecting to somatic-browser-test.s3.amazonaws.com (somatic-browser-test.s3.amazonaws.com)|54.231.166.169|:443... connected.\n",
      "HTTP request sent, awaiting response... 200 OK\n",
      "Length: 49252 (48K) [binary/octet-stream]\n",
      "Saving to: 'SVTYPE_SV_test_tumor_normal_with_panel.bedpe'\n",
      "\n",
      "SVTYPE_SV_test_tumo 100%[===================>]  48.10K  --.-KB/s    in 0.03s   \n",
      "\n",
      "2023-05-09 21:13:21 (1.41 MB/s) - 'SVTYPE_SV_test_tumor_normal_with_panel.bedpe' saved [49252/49252]\n",
      "\n"
     ]
    }
   ],
   "source": [
    "!wget https://somatic-browser-test.s3.amazonaws.com/SVTYPE_SV_test_tumor_normal_with_panel.bedpe\n",
    "\n",
    "config = [{\n",
    "    \"id\": \"SRR7890905\",\n",
    "    \"cancer\": \"breast\",\n",
    "    \"assembly\": \"hg38\",\n",
    "    \"sv\": \"./SVTYPE_SV_test_tumor_normal_with_panel.bedpe\",\n",
    "    \"cnv\": \"https://gist.githubusercontent.com/sehilyi/6fbceae35756b13472332d6b81b10803/raw/596428a8b0ebc00e7f8cbc52b050db0fbd6e19a5/SRR7890943.ascat.v3.cnv.tsv\",\n",
    "    \"bam\": \"https://somatic-browser-test.s3.amazonaws.com/SRR7890905_GAPFI2USVS21.bam\",\n",
    "    \"bai\": \"https://somatic-browser-test.s3.amazonaws.com/SRR7890905_GAPFI2USVS21.bam.bai\",\n",
    "    \"note\": \"This is a test note\"\n",
    "},\n",
    "{\n",
    "    \"id\": \"bc0dee07-de20-44d6-be65-05af7e63ac96\",\n",
    "    \"cancer\": \"gastric\",\n",
    "    \"assembly\": \"hg19\",\n",
    "    \"sv\": \"https://somatic-browser-test.s3.amazonaws.com/cdk12cancers/bc0dee07-de20-44d6-be65-05af7e63ac96.pcawg_consensus_1.6.161116.somatic.sv.bedpe\",\n",
    "    \"cnv\": \"https://somatic-browser-test.s3.amazonaws.com/cdk12cancers/bc0dee07-de20-44d6-be65-05af7e63ac96.consensus.20170119.somatic.cna.txt\",\n",
    "    \"vcf\": \"https://somatic-browser-test.s3.amazonaws.com/cdk12cancers/bc0dee07-de20-44d6-be65-05af7e63ac96.consensus.20160830.somatic.snv_mnv.sorted.vcf.gz\",\n",
    "    \"vcfIndex\": \"https://somatic-browser-test.s3.amazonaws.com/cdk12cancers/bc0dee07-de20-44d6-be65-05af7e63ac96.consensus.20160830.somatic.snv_mnv.sorted.vcf.gz.tbi\",\n",
    "    \"vcf2\": \"https://somatic-browser-test.s3.amazonaws.com/cdk12cancers/bc0dee07-de20-44d6-be65-05af7e63ac96.consensus.20161006.somatic.indel.sorted.vcf.gz\",\n",
    "    \"vcf2Index\":\n",
    "        \"https://somatic-browser-test.s3.amazonaws.com/cdk12cancers/bc0dee07-de20-44d6-be65-05af7e63ac96.consensus.20161006.somatic.indel.sorted.vcf.gz.tbi\",\n",
    "   \"note\": \"This is a test note\"\n",
    "}]"
   ]
  },
  {
   "cell_type": "code",
   "execution_count": 4,
   "id": "4487a2eb-83e6-47f8-a665-079a695b7f29",
   "metadata": {
    "tags": []
   },
   "outputs": [
    {
     "name": "stdout",
     "output_type": "stream",
     "text": [
      "Collecting chromoscope\n",
      "  Downloading chromoscope-0.0.1-py3-none-any.whl (3.6 kB)\n",
      "Collecting servir>=0.0.5\n",
      "  Using cached servir-0.0.6-py3-none-any.whl (11 kB)\n",
      "Requirement already satisfied: jinja2 in /Users/sehilyi/opt/anaconda3/lib/python3.9/site-packages (from chromoscope) (2.11.3)\n",
      "Collecting typing-extensions>=4.5.0\n",
      "  Using cached typing_extensions-4.5.0-py3-none-any.whl (27 kB)\n",
      "Collecting uvicorn>=0.21.1\n",
      "  Downloading uvicorn-0.22.0-py3-none-any.whl (58 kB)\n",
      "\u001b[2K     \u001b[38;2;114;156;31m━━━━━━━━━━━━━━━━━━━━━━━━━━━━━━━━━━━━━━━\u001b[0m \u001b[32m58.3/58.3 kB\u001b[0m \u001b[31m581.4 kB/s\u001b[0m eta \u001b[36m0:00:00\u001b[0m kB/s\u001b[0m eta \u001b[36m0:00:01\u001b[0m\n",
      "\u001b[?25hCollecting portpicker\n",
      "  Using cached portpicker-1.5.2-py3-none-any.whl (14 kB)\n",
      "Collecting starlette>=0.26.1\n",
      "  Using cached starlette-0.26.1-py3-none-any.whl (66 kB)\n",
      "Requirement already satisfied: MarkupSafe>=0.23 in /Users/sehilyi/opt/anaconda3/lib/python3.9/site-packages (from jinja2->chromoscope) (2.0.1)\n",
      "Requirement already satisfied: anyio<5,>=3.4.0 in /Users/sehilyi/opt/anaconda3/lib/python3.9/site-packages (from starlette>=0.26.1->servir>=0.0.5->chromoscope) (3.5.0)\n",
      "Requirement already satisfied: click>=7.0 in /Users/sehilyi/opt/anaconda3/lib/python3.9/site-packages (from uvicorn>=0.21.1->servir>=0.0.5->chromoscope) (8.0.4)\n",
      "Collecting h11>=0.8\n",
      "  Using cached h11-0.14.0-py3-none-any.whl (58 kB)\n",
      "Requirement already satisfied: psutil in /Users/sehilyi/opt/anaconda3/lib/python3.9/site-packages (from portpicker->servir>=0.0.5->chromoscope) (5.9.0)\n",
      "Requirement already satisfied: sniffio>=1.1 in /Users/sehilyi/opt/anaconda3/lib/python3.9/site-packages (from anyio<5,>=3.4.0->starlette>=0.26.1->servir>=0.0.5->chromoscope) (1.2.0)\n",
      "Requirement already satisfied: idna>=2.8 in /Users/sehilyi/opt/anaconda3/lib/python3.9/site-packages (from anyio<5,>=3.4.0->starlette>=0.26.1->servir>=0.0.5->chromoscope) (3.3)\n",
      "Installing collected packages: typing-extensions, portpicker, h11, uvicorn, starlette, servir, chromoscope\n",
      "  Attempting uninstall: typing-extensions\n",
      "    Found existing installation: typing_extensions 4.3.0\n",
      "    Uninstalling typing_extensions-4.3.0:\n",
      "      Successfully uninstalled typing_extensions-4.3.0\n",
      "Successfully installed chromoscope-0.0.1 h11-0.14.0 portpicker-1.5.2 servir-0.0.6 starlette-0.26.1 typing-extensions-4.5.0 uvicorn-0.22.0\n"
     ]
    },
    {
     "data": {
      "text/html": [
       "\n",
       "<iframe src=\"https://chromoscope.bio?external=http://localhost:51339/resources/08cabf5-content.json\" frameborder=\"0\" allowfullscreen style=\"width:100%;height:700px;\" />\n"
      ],
      "text/plain": [
       "<chromoscope._viewer.Viewer at 0x7f8a501f43a0>"
      ]
     },
     "execution_count": 4,
     "metadata": {},
     "output_type": "execute_result"
    }
   ],
   "source": [
    "from chromoscope import Viewer\n",
    "\n",
    "Viewer.from_config(config)"
   ]
  },
  {
   "cell_type": "code",
   "execution_count": 5,
   "id": "28a79bde-3cf5-43ea-92e5-b83f1a8a44ae",
   "metadata": {},
   "outputs": [
    {
     "data": {
      "text/html": [
       "\n",
       "<iframe src=\"https://chromoscope.bio?external=http://localhost:51339/resources/08cabf5-content.json\" frameborder=\"0\" allowfullscreen style=\"width:100%;height:700px;\" />\n"
      ],
      "text/plain": [
       "<chromoscope._viewer.Viewer at 0x7f8a704450a0>"
      ]
     },
     "execution_count": 5,
     "metadata": {},
     "output_type": "execute_result"
    }
   ],
   "source": [
    "from chromoscope import Viewer\n",
    "\n",
    "Viewer.from_config(config)"
   ]
  },
  {
   "cell_type": "code",
   "execution_count": null,
   "id": "642a0a11-fada-4537-9b60-b8e3a241d5a5",
   "metadata": {},
   "outputs": [],
   "source": []
  }
 ],
 "metadata": {
  "kernelspec": {
   "display_name": "Python 3 (ipykernel)",
   "language": "python",
   "name": "python3"
  },
  "language_info": {
   "codemirror_mode": {
    "name": "ipython",
    "version": 3
   },
   "file_extension": ".py",
   "mimetype": "text/x-python",
   "name": "python",
   "nbconvert_exporter": "python",
   "pygments_lexer": "ipython3",
   "version": "3.9.13"
  }
 },
 "nbformat": 4,
 "nbformat_minor": 5
}
